{
 "cells": [
  {
   "cell_type": "code",
   "execution_count": null,
   "metadata": {},
   "outputs": [
    {
     "name": "stdout",
     "output_type": "stream",
     "text": [
      "\n",
      "Evaluating meta-math/MetaMath-Mistral-7B...\n"
     ]
    },
    {
     "name": "stderr",
     "output_type": "stream",
     "text": [
      "2024-12-02:02:22:46,851 INFO     [huggingface.py:129] Using device 'cuda'\n",
      "2024-12-02:02:22:46,944 INFO     [huggingface.py:481] Using model type 'default'\n",
      "2024-12-02:02:22:46,950 INFO     [huggingface.py:365] Model parallel was set to False, max memory was not set, and device map was set to {'': 'cuda'}\n"
     ]
    },
    {
     "data": {
      "application/vnd.jupyter.widget-view+json": {
       "model_id": "8d014ee78e8a45989370a39860646526",
       "version_major": 2,
       "version_minor": 0
      },
      "text/plain": [
       "Loading checkpoint shards:   0%|          | 0/2 [00:00<?, ?it/s]"
      ]
     },
     "metadata": {},
     "output_type": "display_data"
    },
    {
     "name": "stderr",
     "output_type": "stream",
     "text": [
      "2024-12-02:02:22:53,357 INFO     [evaluator.py:164] Setting random seed to 0 | Setting numpy seed to 1234 | Setting torch manual seed to 1234 | Setting fewshot manual seed to 1234\n",
      "2024-12-02:02:22:53,358 INFO     [evaluator.py:217] Using pre-initialized model\n",
      "2024-12-02:02:23:02,976 WARNING  [evaluator.py:270] Overwriting default num_fewshot of gsm8k from 5 to 8\n",
      "2024-12-02:02:23:02,977 INFO     [task.py:415] Building contexts for gsm8k on rank 0...\n",
      "100%|██████████| 256/256 [00:01<00:00, 237.81it/s]\n",
      "2024-12-02:02:23:04,060 INFO     [evaluator.py:489] Running generate_until requests\n",
      "Running generate_until requests:   0%|          | 0/256 [00:00<?, ?it/s]Token indices sequence length is longer than the specified maximum sequence length for this model (1888 > 1024). Running this sequence through the model will result in indexing errors\n",
      "Running generate_until requests: 100%|██████████| 256/256 [05:49<00:00,  1.36s/it]\n",
      "fatal: not a git repository (or any of the parent directories): .git\n"
     ]
    },
    {
     "name": "stdout",
     "output_type": "stream",
     "text": [
      "Results for meta-math/MetaMath-Mistral-7B:\n",
      "{'alias': 'gsm8k', 'exact_match,strict-match': np.float64(0.69921875), 'exact_match_stderr,strict-match': 0.02871850463421181, 'exact_match,flexible-extract': np.float64(0.70703125), 'exact_match_stderr,flexible-extract': 0.028500984607927556}\n"
     ]
    }
   ],
   "source": [
    "from lm_eval import evaluator\n",
    "from lm_eval.models.huggingface import HFLM\n",
    "import torch\n",
    "import json\n",
    "from transformers import AutoTokenizer\n",
    "\n",
    "\n",
    "models = [\n",
    "    \"meta-math/MetaMath-Mistral-7B\",\n",
    "]\n",
    "\n",
    "results = {}\n",
    "\n",
    "for model_name in models:\n",
    "    print(f\"\\nEvaluating {model_name}...\")\n",
    "    \n",
    "    model = HFLM(\n",
    "        pretrained=model_name,\n",
    "        tokenizer=AutoTokenizer.from_pretrained(model_name),\n",
    "        device='cuda' if torch.cuda.is_available() else 'cpu',\n",
    "        batch_size=32,\n",
    "        trust_remote_code=True,\n",
    "        dtype=torch.float16\n",
    "    )\n",
    "    \n",
    "    model_results = evaluator.simple_evaluate(\n",
    "        model=model,\n",
    "        tasks=[\"gsm8k\"],\n",
    "        num_fewshot=8,\n",
    "        limit=256 # Remove this line to evaluate on full dataset\n",
    "    )\n",
    "    \n",
    "    results[model_name] = model_results\n",
    "    \n",
    "    print(f\"Results for {model_name}:\")\n",
    "    print(model_results['results']['gsm8k'])\n",
    "\n",
    "with open('gsm8k_results.json', 'w') as f:\n",
    "    json.dump(results, f, indent=2)"
   ]
  },
  {
   "cell_type": "code",
   "execution_count": null,
   "metadata": {},
   "outputs": [],
   "source": []
  }
 ],
 "metadata": {
  "kernelspec": {
   "display_name": "moelm-djswBcic-py3.10",
   "language": "python",
   "name": "python3"
  },
  "language_info": {
   "codemirror_mode": {
    "name": "ipython",
    "version": 3
   },
   "file_extension": ".py",
   "mimetype": "text/x-python",
   "name": "python",
   "nbconvert_exporter": "python",
   "pygments_lexer": "ipython3",
   "version": "3.10.12"
  }
 },
 "nbformat": 4,
 "nbformat_minor": 2
}
