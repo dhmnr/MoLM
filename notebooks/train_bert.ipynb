{
 "cells": [
  {
   "cell_type": "code",
   "execution_count": null,
   "metadata": {},
   "outputs": [
    {
     "name": "stderr",
     "output_type": "stream",
     "text": [
      "Some weights of BertForSequenceClassification were not initialized from the model checkpoint at bert-base-uncased and are newly initialized: ['classifier.bias', 'classifier.weight']\n",
      "You should probably TRAIN this model on a down-stream task to be able to use it for predictions and inference.\n",
      "/home/dmanu006/.cache/pypoetry/virtualenvs/moelm-djswBcic-py3.10/lib/python3.10/site-packages/transformers/optimization.py:591: FutureWarning: This implementation of AdamW is deprecated and will be removed in a future version. Use the PyTorch implementation torch.optim.AdamW instead, or set `no_deprecation_warning=True` to disable this warning\n",
      "  warnings.warn(\n"
     ]
    },
    {
     "name": "stdout",
     "output_type": "stream",
     "text": [
      "\n",
      "Epoch 1/3\n"
     ]
    },
    {
     "name": "stderr",
     "output_type": "stream",
     "text": [
      "Training: 100%|██████████| 382/382 [01:45<00:00,  3.60it/s]\n"
     ]
    },
    {
     "name": "stdout",
     "output_type": "stream",
     "text": [
      "Average training loss: 0.0235\n"
     ]
    },
    {
     "name": "stderr",
     "output_type": "stream",
     "text": [
      "Validation: 100%|██████████| 96/96 [00:12<00:00,  7.61it/s]\n"
     ]
    },
    {
     "name": "stdout",
     "output_type": "stream",
     "text": [
      "Average validation loss: 0.0006\n",
      "Validation accuracy: 1.0000\n",
      "\n",
      "Epoch 2/3\n"
     ]
    },
    {
     "name": "stderr",
     "output_type": "stream",
     "text": [
      "Training: 100%|██████████| 382/382 [02:52<00:00,  2.21it/s]\n"
     ]
    },
    {
     "name": "stdout",
     "output_type": "stream",
     "text": [
      "Average training loss: 0.0004\n"
     ]
    },
    {
     "name": "stderr",
     "output_type": "stream",
     "text": [
      "Validation: 100%|██████████| 96/96 [00:17<00:00,  5.49it/s]\n"
     ]
    },
    {
     "name": "stdout",
     "output_type": "stream",
     "text": [
      "Average validation loss: 0.0001\n",
      "Validation accuracy: 1.0000\n",
      "\n",
      "Epoch 3/3\n"
     ]
    },
    {
     "name": "stderr",
     "output_type": "stream",
     "text": [
      "Training: 100%|██████████| 382/382 [02:54<00:00,  2.19it/s]\n"
     ]
    },
    {
     "name": "stdout",
     "output_type": "stream",
     "text": [
      "Average training loss: 0.0001\n"
     ]
    },
    {
     "name": "stderr",
     "output_type": "stream",
     "text": [
      "Validation: 100%|██████████| 96/96 [00:17<00:00,  5.51it/s]\n"
     ]
    },
    {
     "name": "stdout",
     "output_type": "stream",
     "text": [
      "Average validation loss: 0.0001\n",
      "Validation accuracy: 1.0000\n"
     ]
    }
   ],
   "source": [
    "import torch\n",
    "from torch.utils.data import Dataset, DataLoader\n",
    "from transformers import BertTokenizer, BertForSequenceClassification, AdamW\n",
    "from sklearn.model_selection import train_test_split\n",
    "import numpy as np\n",
    "from tqdm import tqdm\n",
    "import datasets\n",
    "from typing import List, Tuple\n",
    "from datasets import load_dataset\n",
    "\n",
    "class PromptDataset(Dataset):\n",
    "    def __init__(self, texts: List[str], labels: List[int], tokenizer, max_length=512):\n",
    "        self.texts = texts\n",
    "        self.labels = labels\n",
    "        self.tokenizer = tokenizer\n",
    "        self.max_length = max_length\n",
    "\n",
    "    def __len__(self):\n",
    "        return len(self.texts)\n",
    "\n",
    "    def __getitem__(self, idx):\n",
    "        text = str(self.texts[idx])\n",
    "        label = self.labels[idx]\n",
    "\n",
    "        encoding = self.tokenizer(\n",
    "            text,\n",
    "            add_special_tokens=True,\n",
    "            max_length=self.max_length,\n",
    "            padding='max_length',\n",
    "            truncation=True,\n",
    "            return_tensors='pt'\n",
    "        )\n",
    "\n",
    "        return {\n",
    "            'input_ids': encoding['input_ids'].flatten(),\n",
    "            'attention_mask': encoding['attention_mask'].flatten(),\n",
    "            'label': torch.tensor(label, dtype=torch.long)\n",
    "        }\n",
    "\n",
    "def prepare_data(gsm8k: datasets.Dataset, humaneval: datasets.Dataset) -> Tuple[List[str], List[int]]:\n",
    "\n",
    "\n",
    "    gsm_prompts = [str(item['question']) for item in gsm8k]\n",
    "    humaneval_prompts = [str(item['prompt']) for item in humaneval]\n",
    "    \n",
    "    gsm_labels = [0] * len(gsm_prompts)\n",
    "    humaneval_labels = [1] * len(humaneval_prompts)\n",
    "    \n",
    "    all_prompts = gsm_prompts + humaneval_prompts\n",
    "    all_labels = gsm_labels + humaneval_labels\n",
    "    \n",
    "    return all_prompts, all_labels\n",
    "\n",
    "def train_bert_classifier(prompts: List[str], labels: List[int], \n",
    "                         batch_size=16, num_epochs=3, learning_rate=2e-5):\n",
    "\n",
    "    tokenizer = BertTokenizer.from_pretrained('bert-base-uncased')\n",
    "    model = BertForSequenceClassification.from_pretrained('bert-base-uncased', num_labels=2)\n",
    "    \n",
    "    train_texts, val_texts, train_labels, val_labels = train_test_split(\n",
    "        prompts, labels, test_size=0.2, random_state=42\n",
    "    )\n",
    "    \n",
    "    train_dataset = PromptDataset(train_texts, train_labels, tokenizer)\n",
    "    val_dataset = PromptDataset(val_texts, val_labels, tokenizer)\n",
    "    \n",
    "    train_loader = DataLoader(train_dataset, batch_size=batch_size, shuffle=True)\n",
    "    val_loader = DataLoader(val_dataset, batch_size=batch_size)\n",
    "    \n",
    "    device = torch.device('cuda' if torch.cuda.is_available() else 'cpu')\n",
    "    model.to(device)\n",
    "    optimizer = AdamW(model.parameters(), lr=learning_rate)\n",
    "    \n",
    "    for epoch in range(num_epochs):\n",
    "        print(f'\\nEpoch {epoch + 1}/{num_epochs}')\n",
    "        \n",
    "        model.train()\n",
    "        train_loss = 0\n",
    "        train_steps = 0\n",
    "        \n",
    "        for batch in tqdm(train_loader, desc='Training'):\n",
    "            optimizer.zero_grad()\n",
    "            \n",
    "            input_ids = batch['input_ids'].to(device)\n",
    "            attention_mask = batch['attention_mask'].to(device)\n",
    "            labels = batch['label'].to(device)\n",
    "            \n",
    "            outputs = model(input_ids, attention_mask=attention_mask, labels=labels)\n",
    "            loss = outputs.loss\n",
    "            \n",
    "            loss.backward()\n",
    "            optimizer.step()\n",
    "            \n",
    "            train_loss += loss.item()\n",
    "            train_steps += 1\n",
    "        \n",
    "        avg_train_loss = train_loss / train_steps\n",
    "        print(f'Average training loss: {avg_train_loss:.4f}')\n",
    "        \n",
    "        model.eval()\n",
    "        val_loss = 0\n",
    "        val_steps = 0\n",
    "        correct = 0\n",
    "        total = 0\n",
    "        \n",
    "        with torch.no_grad():\n",
    "            for batch in tqdm(val_loader, desc='Validation'):\n",
    "                input_ids = batch['input_ids'].to(device)\n",
    "                attention_mask = batch['attention_mask'].to(device)\n",
    "                labels = batch['label'].to(device)\n",
    "                \n",
    "                outputs = model(input_ids, attention_mask=attention_mask, labels=labels)\n",
    "                loss = outputs.loss\n",
    "                \n",
    "                val_loss += loss.item()\n",
    "                val_steps += 1\n",
    "                \n",
    "                predictions = torch.argmax(outputs.logits, dim=1)\n",
    "                correct += (predictions == labels).sum().item()\n",
    "                total += labels.size(0)\n",
    "        \n",
    "        avg_val_loss = val_loss / val_steps\n",
    "        accuracy = correct / total\n",
    "        print(f'Average validation loss: {avg_val_loss:.4f}')\n",
    "        print(f'Validation accuracy: {accuracy:.4f}')\n",
    "    \n",
    "    return model, tokenizer\n",
    "\n",
    "if __name__ == \"__main__\":\n",
    "    gsm8k = load_dataset(\"gsm8k\", \"main\", split=\"train\")\n",
    "    humaneval = load_dataset(\"openai_humaneval\", split=\"test\")\n",
    "    \n",
    "    prompts, labels = prepare_data(gsm8k, humaneval)\n",
    "    \n",
    "    model, tokenizer = train_bert_classifier(prompts, labels)\n",
    "    \n",
    "    model.save_pretrained(\"../models/prompt_classifier\")\n",
    "    tokenizer.save_pretrained(\"../models/prompt_classifier\")"
   ]
  },
  {
   "cell_type": "code",
   "execution_count": null,
   "metadata": {},
   "outputs": [
    {
     "name": "stdout",
     "output_type": "stream",
     "text": [
      "\n",
      "Math Problem Prediction:\n",
      "Predicted Dataset: GSM8K (Math)\n",
      "Confidence: 99.99%\n",
      "Probabilities: {'GSM8K': '99.99%', 'HumanEval': '0.01%'}\n",
      "\n",
      "Programming Problem Prediction:\n",
      "Predicted Dataset: HumanEval (Programming)\n",
      "Confidence: 99.97%\n",
      "Probabilities: {'GSM8K': '0.03%', 'HumanEval': '99.97%'}\n"
     ]
    }
   ],
   "source": [
    "import torch\n",
    "from transformers import BertTokenizer, BertForSequenceClassification\n",
    "\n",
    "def predict_dataset(text: str, model_path: str = \"prompt_classifier\") -> dict:\n",
    "\n",
    "    device = torch.device('cuda' if torch.cuda.is_available() else 'cpu')\n",
    "    model = BertForSequenceClassification.from_pretrained(model_path)\n",
    "    tokenizer = BertTokenizer.from_pretrained(model_path)\n",
    "    model.to(device)\n",
    "    model.eval()\n",
    "    \n",
    "    encoding = tokenizer(\n",
    "        text,\n",
    "        add_special_tokens=True,\n",
    "        max_length=512,\n",
    "        padding='max_length',\n",
    "        truncation=True,\n",
    "        return_tensors='pt'\n",
    "    )\n",
    "    \n",
    "    input_ids = encoding['input_ids'].to(device)\n",
    "    attention_mask = encoding['attention_mask'].to(device)\n",
    "    \n",
    "    with torch.no_grad():\n",
    "        outputs = model(input_ids, attention_mask=attention_mask)\n",
    "        probabilities = torch.softmax(outputs.logits, dim=1)\n",
    "        prediction = torch.argmax(probabilities, dim=1).item()\n",
    "        confidence = probabilities[0][prediction].item()\n",
    "    \n",
    "    dataset_mapping = {0: \"GSM8K (Math)\", 1: \"HumanEval (Programming)\"}\n",
    "    result = {\n",
    "        \"predicted_dataset\": dataset_mapping[prediction],\n",
    "        \"confidence\": f\"{confidence:.2%}\",\n",
    "        \"probabilities\": {\n",
    "            \"GSM8K\": f\"{probabilities[0][0].item():.2%}\",\n",
    "            \"HumanEval\": f\"{probabilities[0][1].item():.2%}\"\n",
    "        }\n",
    "    }\n",
    "    \n",
    "    return result\n",
    "\n",
    "if __name__ == \"__main__\":\n",
    "    math_prompt = \"\"\"\n",
    "    Janet has 3 apples. She buys 2 more apples from the store. \n",
    "    How many apples does Janet have in total?\n",
    "    \"\"\"\n",
    "    \n",
    "    programming_prompt = \"\"\"\n",
    "    def add_numbers(a: int, b: int) -> int:\n",
    "        \\\"\\\"\\\"\n",
    "        Add two integers and return their sum.\n",
    "        \n",
    "        Args:\n",
    "            a: first integer\n",
    "            b: second integer\n",
    "            \n",
    "        Returns:\n",
    "            The sum of a and b\n",
    "        \\\"\\\"\\\"\n",
    "    \"\"\"\n",
    "    \n",
    "    math_result = predict_dataset(math_prompt)\n",
    "    programming_result = predict_dataset(programming_prompt)\n",
    "    \n",
    "    print(\"\\nMath Problem Prediction:\")\n",
    "    print(f\"Predicted Dataset: {math_result['predicted_dataset']}\")\n",
    "    print(f\"Confidence: {math_result['confidence']}\")\n",
    "    print(\"Probabilities:\", math_result['probabilities'])\n",
    "    \n",
    "    print(\"\\nProgramming Problem Prediction:\")\n",
    "    print(f\"Predicted Dataset: {programming_result['predicted_dataset']}\")\n",
    "    print(f\"Confidence: {programming_result['confidence']}\")\n",
    "    print(\"Probabilities:\", programming_result['probabilities'])"
   ]
  },
  {
   "cell_type": "code",
   "execution_count": null,
   "metadata": {},
   "outputs": [],
   "source": []
  }
 ],
 "metadata": {
  "kernelspec": {
   "display_name": "moelm-djswBcic-py3.10",
   "language": "python",
   "name": "python3"
  },
  "language_info": {
   "codemirror_mode": {
    "name": "ipython",
    "version": 3
   },
   "file_extension": ".py",
   "mimetype": "text/x-python",
   "name": "python",
   "nbconvert_exporter": "python",
   "pygments_lexer": "ipython3",
   "version": "3.10.12"
  }
 },
 "nbformat": 4,
 "nbformat_minor": 2
}
